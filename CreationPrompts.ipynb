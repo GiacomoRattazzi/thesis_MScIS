{
  "nbformat": 4,
  "nbformat_minor": 0,
  "metadata": {
    "colab": {
      "provenance": []
    },
    "kernelspec": {
      "name": "python3",
      "display_name": "Python 3"
    },
    "language_info": {
      "name": "python"
    }
  },
  "cells": [
    {
      "cell_type": "markdown",
      "source": [
        "\n",
        "\n",
        "> https://www.fs.usda.gov/ccrc/topics\n",
        "\n"
      ],
      "metadata": {
        "id": "Jyp7b-OwG8e2"
      }
    },
    {
      "cell_type": "code",
      "execution_count": 5,
      "metadata": {
        "colab": {
          "base_uri": "https://localhost:8080/"
        },
        "id": "ffmP4U-CGtlc",
        "outputId": "216d4f7d-b598-4313-9533-2a8b9b58f21a"
      },
      "outputs": [
        {
          "output_type": "stream",
          "name": "stdout",
          "text": [
            "['Write a tweet as to discuss the rise in global temperatures.', 'Write a tweet as to debate the rise in global temperatures.', 'Write a tweet as to highlight the rise in global temperatures.', 'Write a tweet as to explain the rise in global temperatures.', 'Write a tweet as to describe the rise in global temperatures.', 'Write a tweet as to discuss the melting ice caps.', 'Write a tweet as to debate the melting ice caps.', 'Write a tweet as to highlight the melting ice caps.', 'Write a tweet as to explain the melting ice caps.', 'Write a tweet as to describe the melting ice caps.', 'Write a tweet as to discuss the deforestation.', 'Write a tweet as to debate the deforestation.', 'Write a tweet as to highlight the deforestation.', 'Write a tweet as to explain the deforestation.', 'Write a tweet as to describe the deforestation.', 'Write a tweet as to discuss the carbon emissions.', 'Write a tweet as to debate the carbon emissions.', 'Write a tweet as to highlight the carbon emissions.', 'Write a tweet as to explain the carbon emissions.', 'Write a tweet as to describe the carbon emissions.', 'Write a tweet as to discuss the ocean acidification.', 'Write a tweet as to debate the ocean acidification.', 'Write a tweet as to highlight the ocean acidification.', 'Write a tweet as to explain the ocean acidification.', 'Write a tweet as to describe the ocean acidification.']\n"
          ]
        }
      ],
      "source": [
        "def generate_prompts_tweets():\n",
        "    # Lists for various components of the prompts\n",
        "\n",
        "    topics = [\"rise in global temperatures\", \"melting ice caps\", \"deforestation\", \"carbon emissions\", \"ocean acidification\"]\n",
        "    actions = [\"discuss\", \"debate\", \"highlight\", \"explain\", \"describe\"]\n",
        "\n",
        "    # Store generated prompts\n",
        "    prompts = []\n",
        "\n",
        "    # Generating prompts\n",
        "\n",
        "    for topic in topics:\n",
        "        for action in actions:\n",
        "            prompt = f\"Write a tweet as to {action} the {topic}.\"\n",
        "            prompts.append(prompt)\n",
        "\n",
        "\n",
        "    return prompts\n",
        "\n",
        "# Generate the prompts\n",
        "prompts_list_T = generate_prompts_tweets()\n",
        "\n",
        "print(prompts_list_T)"
      ]
    },
    {
      "cell_type": "code",
      "source": [
        "def generate_prompts_news_headlines():\n",
        "    # Lists for various components of the prompts\n",
        "\n",
        "    topics = [\"rise in global temperatures\", \"melting ice caps\", \"deforestation\", \"carbon emissions\", \"ocean acidification\"]\n",
        "    actions = [\"discussing\", \"debating\", \"highlighting\", \"explaining\", \"describing\"]\n",
        "\n",
        "    # Store generated prompts\n",
        "    prompts = []\n",
        "\n",
        "    # Generating prompts\n",
        "\n",
        "    for topic in topics:\n",
        "        for action in actions:\n",
        "            prompt = f\"Write a news headline {action} the {topic}.\"\n",
        "            prompts.append(prompt)\n",
        "\n",
        "\n",
        "    return prompts\n",
        "\n",
        "# Generate the prompts\n",
        "prompts_list_N = generate_prompts_news_headlines()\n",
        "\n",
        "print(prompts_list_N)"
      ],
      "metadata": {
        "colab": {
          "base_uri": "https://localhost:8080/"
        },
        "id": "GE4kp1wZHJAD",
        "outputId": "33da8b82-0fe5-4bae-ff43-c5c84557916a"
      },
      "execution_count": 7,
      "outputs": [
        {
          "output_type": "stream",
          "name": "stdout",
          "text": [
            "['Write a news headline discussing the rise in global temperatures.', 'Write a news headline debating the rise in global temperatures.', 'Write a news headline highlighting the rise in global temperatures.', 'Write a news headline explaining the rise in global temperatures.', 'Write a news headline describing the rise in global temperatures.', 'Write a news headline discussing the melting ice caps.', 'Write a news headline debating the melting ice caps.', 'Write a news headline highlighting the melting ice caps.', 'Write a news headline explaining the melting ice caps.', 'Write a news headline describing the melting ice caps.', 'Write a news headline discussing the deforestation.', 'Write a news headline debating the deforestation.', 'Write a news headline highlighting the deforestation.', 'Write a news headline explaining the deforestation.', 'Write a news headline describing the deforestation.', 'Write a news headline discussing the carbon emissions.', 'Write a news headline debating the carbon emissions.', 'Write a news headline highlighting the carbon emissions.', 'Write a news headline explaining the carbon emissions.', 'Write a news headline describing the carbon emissions.', 'Write a news headline discussing the ocean acidification.', 'Write a news headline debating the ocean acidification.', 'Write a news headline highlighting the ocean acidification.', 'Write a news headline explaining the ocean acidification.', 'Write a news headline describing the ocean acidification.']\n"
          ]
        }
      ]
    }
  ]
}