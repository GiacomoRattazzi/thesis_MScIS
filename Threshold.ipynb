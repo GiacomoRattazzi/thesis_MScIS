{
  "nbformat": 4,
  "nbformat_minor": 0,
  "metadata": {
    "colab": {
      "provenance": []
    },
    "kernelspec": {
      "name": "python3",
      "display_name": "Python 3"
    },
    "language_info": {
      "name": "python"
    }
  },
  "cells": [
    {
      "cell_type": "code",
      "execution_count": null,
      "metadata": {
        "colab": {
          "base_uri": "https://localhost:8080/"
        },
        "id": "Qe7tvz-P2oBM",
        "outputId": "2865128f-06fb-4b86-e8a8-67ee42bc0d6e"
      },
      "outputs": [
        {
          "output_type": "stream",
          "name": "stdout",
          "text": [
            "Requirement already satisfied: sklearn in /usr/local/lib/python3.10/dist-packages (0.0.post11)\n",
            "Requirement already satisfied: matplotlib in /usr/local/lib/python3.10/dist-packages (3.7.1)\n",
            "Requirement already satisfied: contourpy>=1.0.1 in /usr/local/lib/python3.10/dist-packages (from matplotlib) (1.2.0)\n",
            "Requirement already satisfied: cycler>=0.10 in /usr/local/lib/python3.10/dist-packages (from matplotlib) (0.12.1)\n",
            "Requirement already satisfied: fonttools>=4.22.0 in /usr/local/lib/python3.10/dist-packages (from matplotlib) (4.44.3)\n",
            "Requirement already satisfied: kiwisolver>=1.0.1 in /usr/local/lib/python3.10/dist-packages (from matplotlib) (1.4.5)\n",
            "Requirement already satisfied: numpy>=1.20 in /usr/local/lib/python3.10/dist-packages (from matplotlib) (1.23.5)\n",
            "Requirement already satisfied: packaging>=20.0 in /usr/local/lib/python3.10/dist-packages (from matplotlib) (23.2)\n",
            "Requirement already satisfied: pillow>=6.2.0 in /usr/local/lib/python3.10/dist-packages (from matplotlib) (9.4.0)\n",
            "Requirement already satisfied: pyparsing>=2.3.1 in /usr/local/lib/python3.10/dist-packages (from matplotlib) (3.1.1)\n",
            "Requirement already satisfied: python-dateutil>=2.7 in /usr/local/lib/python3.10/dist-packages (from matplotlib) (2.8.2)\n",
            "Requirement already satisfied: six>=1.5 in /usr/local/lib/python3.10/dist-packages (from python-dateutil>=2.7->matplotlib) (1.16.0)\n"
          ]
        }
      ],
      "source": [
        "pip install sklearn matplotlib"
      ]
    },
    {
      "cell_type": "code",
      "source": [
        "pip install transformers"
      ],
      "metadata": {
        "colab": {
          "base_uri": "https://localhost:8080/"
        },
        "id": "0rDYyAy52pLz",
        "outputId": "143b27ac-61e2-4358-af7a-398a77fc8ab5"
      },
      "execution_count": null,
      "outputs": [
        {
          "output_type": "stream",
          "name": "stdout",
          "text": [
            "Requirement already satisfied: transformers in /usr/local/lib/python3.10/dist-packages (4.35.2)\n",
            "Requirement already satisfied: filelock in /usr/local/lib/python3.10/dist-packages (from transformers) (3.13.1)\n",
            "Requirement already satisfied: huggingface-hub<1.0,>=0.16.4 in /usr/local/lib/python3.10/dist-packages (from transformers) (0.19.3)\n",
            "Requirement already satisfied: numpy>=1.17 in /usr/local/lib/python3.10/dist-packages (from transformers) (1.23.5)\n",
            "Requirement already satisfied: packaging>=20.0 in /usr/local/lib/python3.10/dist-packages (from transformers) (23.2)\n",
            "Requirement already satisfied: pyyaml>=5.1 in /usr/local/lib/python3.10/dist-packages (from transformers) (6.0.1)\n",
            "Requirement already satisfied: regex!=2019.12.17 in /usr/local/lib/python3.10/dist-packages (from transformers) (2023.6.3)\n",
            "Requirement already satisfied: requests in /usr/local/lib/python3.10/dist-packages (from transformers) (2.31.0)\n",
            "Requirement already satisfied: tokenizers<0.19,>=0.14 in /usr/local/lib/python3.10/dist-packages (from transformers) (0.15.0)\n",
            "Requirement already satisfied: safetensors>=0.3.1 in /usr/local/lib/python3.10/dist-packages (from transformers) (0.4.0)\n",
            "Requirement already satisfied: tqdm>=4.27 in /usr/local/lib/python3.10/dist-packages (from transformers) (4.66.1)\n",
            "Requirement already satisfied: fsspec>=2023.5.0 in /usr/local/lib/python3.10/dist-packages (from huggingface-hub<1.0,>=0.16.4->transformers) (2023.6.0)\n",
            "Requirement already satisfied: typing-extensions>=3.7.4.3 in /usr/local/lib/python3.10/dist-packages (from huggingface-hub<1.0,>=0.16.4->transformers) (4.5.0)\n",
            "Requirement already satisfied: charset-normalizer<4,>=2 in /usr/local/lib/python3.10/dist-packages (from requests->transformers) (3.3.2)\n",
            "Requirement already satisfied: idna<4,>=2.5 in /usr/local/lib/python3.10/dist-packages (from requests->transformers) (3.4)\n",
            "Requirement already satisfied: urllib3<3,>=1.21.1 in /usr/local/lib/python3.10/dist-packages (from requests->transformers) (2.0.7)\n",
            "Requirement already satisfied: certifi>=2017.4.17 in /usr/local/lib/python3.10/dist-packages (from requests->transformers) (2023.7.22)\n"
          ]
        }
      ]
    },
    {
      "cell_type": "code",
      "source": [
        "import os\n",
        "import json\n",
        "from transformers import AutoTokenizer, AutoModelForSequenceClassification\n",
        "from sklearn.metrics import accuracy_score, classification_report\n",
        "import pandas as pd\n",
        "from tqdm import tqdm\n",
        "from sklearn.metrics import confusion_matrix, ConfusionMatrixDisplay\n",
        "import matplotlib.pyplot as plt\n",
        "\n",
        "# Initialize tokenizer and model\n",
        "tokenizer = AutoTokenizer.from_pretrained(\"bert-base-cased\")\n",
        "model = AutoModelForSequenceClassification.from_pretrained(\"bucketresearch/politicalBiasBERT\")"
      ],
      "metadata": {
        "id": "JJzWXA0s27r6"
      },
      "execution_count": null,
      "outputs": []
    },
    {
      "cell_type": "markdown",
      "source": [
        "**Threshold for accuracy**"
      ],
      "metadata": {
        "id": "axdW8tAeLwpu"
      }
    },
    {
      "cell_type": "code",
      "source": [
        "import os\n",
        "import json\n",
        "from transformers import AutoTokenizer, AutoModelForSequenceClassification\n",
        "import pandas as pd\n",
        "from tqdm import tqdm\n",
        "import numpy as np\n",
        "from sklearn.metrics import accuracy_score\n",
        "\n",
        "# Initialize tokenizer and model\n",
        "tokenizer = AutoTokenizer.from_pretrained(\"bert-base-cased\")\n",
        "model = AutoModelForSequenceClassification.from_pretrained(\"bucketresearch/politicalBiasBERT\")\n",
        "\n",
        "# Function to get model's prediction score\n",
        "def get_model_score(text):\n",
        "    tokenized_inputs = tokenizer(text, truncation=True, return_tensors='pt', max_length=512)\n",
        "    inputs = {'input_ids': tokenized_inputs['input_ids'], 'attention_mask': tokenized_inputs['attention_mask']}\n",
        "    outputs = model(**inputs)\n",
        "    logits = outputs[0]\n",
        "    probs = logits.softmax(dim=-1)[0].tolist()\n",
        "\n",
        "    score = probs[0] * 1/6 + probs[1] * 3/6 + probs[2] * 5/6\n",
        "    return score\n",
        "\n",
        "# Load JSON files from the directory\n",
        "data_dir = \"./data\"\n",
        "all_files = [os.path.join(data_dir, f) for f in os.listdir(data_dir) if f.endswith('.json')]\n",
        "\n",
        "scores = []\n",
        "true_labels = []\n",
        "\n",
        "for file in tqdm(all_files):\n",
        "    with open(file, 'r') as f:\n",
        "        article = json.load(f)\n",
        "\n",
        "    title = article['title']\n",
        "    body = \" \".join([sent['sentence'] for sent in article['body']])\n",
        "    full_text = title + \" \" + body\n",
        "\n",
        "    true_labels.append(article['article-level-annotations']['stance'].lower())\n",
        "    scores.append(get_model_score(full_text))\n",
        "\n",
        "# Determine the best thresholds\n",
        "left_center_thresholds = np.arange(0, 1, 0.01)\n",
        "center_right_thresholds = np.arange(0, 1, 0.01)\n",
        "best_accuracy = 0\n",
        "best_left_center_threshold = 0\n",
        "best_center_right_threshold = 0\n",
        "\n",
        "for left_center_threshold in left_center_thresholds:\n",
        "    for center_right_threshold in center_right_thresholds:\n",
        "        if left_center_threshold < center_right_threshold:\n",
        "            predicted_labels = [\"left\" if score <= left_center_threshold else \"right\" if score >= center_right_threshold else \"center\" for score in scores]\n",
        "            accuracy = accuracy_score(true_labels, predicted_labels)\n",
        "            if accuracy > best_accuracy:\n",
        "                best_accuracy = accuracy\n",
        "                best_left_center_threshold = left_center_threshold\n",
        "                best_center_right_threshold = center_right_threshold\n",
        "\n",
        "print(f\"Best Left-Center Threshold: {best_left_center_threshold}, Best Center-Right Threshold: {best_center_right_threshold}, Best Accuracy: {best_accuracy}\")\n"
      ],
      "metadata": {
        "colab": {
          "base_uri": "https://localhost:8080/"
        },
        "id": "XioUrieMdyGz",
        "outputId": "14426886-3130-4709-e16f-8234b1da21b7"
      },
      "execution_count": null,
      "outputs": [
        {
          "output_type": "stream",
          "name": "stderr",
          "text": [
            "100%|██████████| 300/300 [08:22<00:00,  1.67s/it]\n"
          ]
        },
        {
          "output_type": "stream",
          "name": "stdout",
          "text": [
            "Best Left-Center Threshold: 0.0, Best Center-Right Threshold: 0.7000000000000001, Best Accuracy: 0.5166666666666667\n"
          ]
        }
      ]
    },
    {
      "cell_type": "markdown",
      "source": [
        "**Threshold for distribution**"
      ],
      "metadata": {
        "id": "XXOo4RTRMQQo"
      }
    },
    {
      "cell_type": "code",
      "source": [
        "\n",
        "# Calculate the true distribution\n",
        "true_distribution = {\n",
        "    \"left\": true_labels.count(\"left\") / len(true_labels),\n",
        "    \"center\": true_labels.count(\"center\") / len(true_labels),\n",
        "    \"right\": true_labels.count(\"right\") / len(true_labels)\n",
        "}\n",
        "\n",
        "# Function to calculate distribution difference\n",
        "def distribution_difference(pred_labels, true_dist):\n",
        "    pred_distribution = {\n",
        "        \"left\": pred_labels.count(\"left\") / len(pred_labels),\n",
        "        \"center\": pred_labels.count(\"center\") / len(pred_labels),\n",
        "        \"right\": pred_labels.count(\"right\") / len(pred_labels)\n",
        "    }\n",
        "    diff = sum(abs(true_dist[key] - pred_distribution[key]) for key in true_dist)\n",
        "    return diff\n",
        "\n",
        "# Determine the best thresholds\n",
        "left_center_thresholds = np.arange(0, 1, 0.01)\n",
        "center_right_thresholds = np.arange(0, 1, 0.01)\n",
        "min_diff = float('inf')\n",
        "best_left_center_threshold = 0\n",
        "best_center_right_threshold = 0\n",
        "\n",
        "for left_center_threshold in left_center_thresholds:\n",
        "    for center_right_threshold in center_right_thresholds:\n",
        "        if left_center_threshold < center_right_threshold:\n",
        "            predicted_labels = [\"left\" if score <= left_center_threshold else \"right\" if score >= center_right_threshold else \"center\" for score in scores]\n",
        "            diff = distribution_difference(predicted_labels, true_distribution)\n",
        "            if diff < min_diff:\n",
        "                min_diff = diff\n",
        "                best_left_center_threshold = left_center_threshold\n",
        "                best_center_right_threshold = center_right_threshold\n",
        "\n",
        "print(f\"Best Left-Center Threshold: {best_left_center_threshold}, Best Center-Right Threshold: {best_center_right_threshold}, Minimum Distribution Difference: {min_diff}\")\n"
      ],
      "metadata": {
        "colab": {
          "base_uri": "https://localhost:8080/"
        },
        "id": "m227LAjvZXDj",
        "outputId": "100e0ce3-d270-40ee-d600-e8d44ba3633f"
      },
      "execution_count": null,
      "outputs": [
        {
          "output_type": "stream",
          "name": "stdout",
          "text": [
            "Best Left-Center Threshold: 0.49, Best Center-Right Threshold: 0.51, Minimum Distribution Difference: 0.13333333333333333\n"
          ]
        }
      ]
    },
    {
      "cell_type": "code",
      "source": [
        "# Calculate true labels distribution\n",
        "true_label_distribution = [true_labels.count('left') / len(true_labels),\n",
        "                           true_labels.count('center') / len(true_labels),\n",
        "                           true_labels.count('right') / len(true_labels)]\n",
        "\n",
        "# Determine the best thresholds\n",
        "left_center_thresholds = np.arange(0, 1, 0.01)\n",
        "center_right_thresholds = np.arange(0, 1, 0.01)\n",
        "best_mse = float('inf')\n",
        "best_left_center_threshold = 0\n",
        "best_center_right_threshold = 0\n",
        "\n",
        "for left_center_threshold in left_center_thresholds:\n",
        "    for center_right_threshold in center_right_thresholds:\n",
        "        if left_center_threshold < center_right_threshold:\n",
        "            predicted_labels = [\"left\" if score <= left_center_threshold else \"right\" if score >= center_right_threshold else \"center\" for score in scores]\n",
        "\n",
        "            predicted_label_distribution = [predicted_labels.count('left') / len(predicted_labels),\n",
        "                                            predicted_labels.count('center') / len(predicted_labels),\n",
        "                                            predicted_labels.count('right') / len(predicted_labels)]\n",
        "\n",
        "            mse = mean_squared_error(true_label_distribution, predicted_label_distribution)\n",
        "\n",
        "            if mse < best_mse:\n",
        "                best_mse = mse\n",
        "                best_left_center_threshold = left_center_threshold\n",
        "                best_center_right_threshold = center_right_threshold\n",
        "\n",
        "print(f\"Best Left-Center Threshold: {best_left_center_threshold}, Best Center-Right Threshold: {best_center_right_threshold}, Best MSE: {best_mse}\")"
      ],
      "metadata": {
        "colab": {
          "base_uri": "https://localhost:8080/"
        },
        "id": "A7RfIJeN6M-N",
        "outputId": "b929d055-d554-4414-ab9a-b1c710088cdc"
      },
      "execution_count": null,
      "outputs": [
        {
          "output_type": "stream",
          "name": "stdout",
          "text": [
            "Best Left-Center Threshold: 0.49, Best Center-Right Threshold: 0.51, Best MSE: 0.0023407407407407405\n"
          ]
        }
      ]
    },
    {
      "cell_type": "code",
      "source": [
        "\n",
        "# Evaluate with best thresholds\n",
        "predicted_labels = [\"left\" if score <= best_left_center_threshold else \"right\" if score >= best_center_right_threshold else \"center\" for score in scores]\n",
        "predicted_label_distribution = [predicted_labels.count('left') / len(predicted_labels),\n",
        "                                predicted_labels.count('center') / len(predicted_labels),\n",
        "                                predicted_labels.count('right') / len(predicted_labels)]\n",
        "accuracy = accuracy_score(true_labels, predicted_labels)\n",
        "\n",
        "print(f\"Best Left-Center Threshold: {best_left_center_threshold}\")\n",
        "print(f\"Best Center-Right Threshold: {best_center_right_threshold}\")\n",
        "print(f\"True Label Distribution: {true_label_distribution}\")\n",
        "print(f\"Predicted Label Distribution: {predicted_label_distribution}\")\n",
        "print(f\"Accuracy: {accuracy}\")"
      ],
      "metadata": {
        "colab": {
          "base_uri": "https://localhost:8080/"
        },
        "id": "_HPpmD-Esgac",
        "outputId": "52b3bd17-a0d3-4297-c5bd-3ea60c5db7e4"
      },
      "execution_count": null,
      "outputs": [
        {
          "output_type": "stream",
          "name": "stdout",
          "text": [
            "Best Left-Center Threshold: 0.49\n",
            "Best Center-Right Threshold: 0.51\n",
            "True Label Distribution: [0.27, 0.48, 0.25]\n",
            "Predicted Label Distribution: [0.25, 0.5466666666666666, 0.20333333333333334]\n",
            "Accuracy: 0.4533333333333333\n"
          ]
        }
      ]
    }
  ]
}